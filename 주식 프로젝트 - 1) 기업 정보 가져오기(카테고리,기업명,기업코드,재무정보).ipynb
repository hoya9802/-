{
 "cells": [
  {
   "cell_type": "code",
   "execution_count": null,
   "id": "81c1d841",
   "metadata": {},
   "outputs": [],
   "source": [
    "import re\n",
    "import time\n",
    "import requests\n",
    "\n",
    "import pandas as pd\n",
    "import numpy as np\n",
    "import urllib.request as req\n",
    "import matplotlib.pyplot as plt\n",
    "\n",
    "from matplotlib import font_manager, rc\n",
    "from selenium import webdriver\n",
    "from bs4 import BeautifulSoup\n",
    "from urllib import parse\n",
    "from ast import literal_eval"
   ]
  },
  {
   "cell_type": "markdown",
   "id": "9e6d0f93",
   "metadata": {},
   "source": [
    "# 1. 카테고리-기업명-기업코드 연결하기"
   ]
  },
  {
   "cell_type": "markdown",
   "id": "70b46cbf",
   "metadata": {},
   "source": [
    "## 1) 카테고리-기업명 가져오기"
   ]
  },
  {
   "cell_type": "code",
   "execution_count": null,
   "id": "e6381f53",
   "metadata": {},
   "outputs": [],
   "source": [
    "#네이버 증권의 업종별 분류 사이트 연결\n",
    "\n",
    "driver = webdriver.Chrome('C:/pywork/chromedriver')\n",
    "url2 = 'https://finance.naver.com/sise/sise_group.nhn?type=upjong'\n",
    "driver.get(url2)"
   ]
  },
  {
   "cell_type": "code",
   "execution_count": null,
   "id": "6e3a87ce",
   "metadata": {},
   "outputs": [],
   "source": [
    "event_category_company_list = list()\n",
    "\n",
    "#1~15번째의 업종 카테고리 가져오기\n",
    "\n",
    "for j in range(0, 15):\n",
    "    for i in range(4+(8*j),4+(8*j)+5):\n",
    "        driver.find_element_by_xpath('//*[@id=\"contentarea_left\"]/table/tbody/tr[{}'.format(i)+']/td[1]/a').click()\n",
    "\n",
    "        #카테고리명 가져오기\n",
    "\n",
    "        category_name = driver.find_elements_by_xpath('//*[@id=\"contentarea_left\"]/table/tbody/tr[4]/td[1]')[0].text\n",
    "    \n",
    "        #회사명 가져오기\n",
    "        text_length_temp = driver.find_elements_by_xpath('//*[@id=\"contentarea\"]/div[4]/table/tbody')[0].text\n",
    "        text_length = text_length_temp.split('\\n')\n",
    "        event_company_raw_data_list = list()\n",
    "        \n",
    "        for i in range(1, len(text_length)//2):\n",
    "               \n",
    "            company_name_temp = driver.find_elements_by_xpath('//*[@id=\"contentarea\"]/div[4]/table/tbody/tr[{}'.format(i)+']/td[1]')[0].text\n",
    "            company_name = re.sub(r\"[\\s|*]\",\"\", company_name_temp)\n",
    "            event_company_raw_data = company_name\n",
    "            event_category_company_list += [[category_name, event_company_raw_data]]\n",
    "\n",
    "        driver.find_element_by_xpath('//*[@id=\"contentarea\"]/div[4]/div/div/a/img').click()"
   ]
  },
  {
   "cell_type": "code",
   "execution_count": null,
   "id": "9cdfe1d3",
   "metadata": {},
   "outputs": [],
   "source": [
    "#16번째의 업종 카테고리 가져오기\n",
    "#16번째 업종의 경우 항목이 5개가 아닌 4개\n",
    "\n",
    "for k in range(124,128):\n",
    "    driver.find_element_by_xpath('//*[@id=\"contentarea_left\"]/table/tbody/tr[{}'.format(k)+']/td[1]/a').click()\n",
    "\n",
    "    #카테고리명 가져오기\n",
    "\n",
    "    category_name = driver.find_elements_by_xpath('//*[@id=\"contentarea_left\"]/table/tbody/tr[4]/td[1]')[0].text\n",
    "    \n",
    "    #회사명 가져오기\n",
    "    text_length_temp = driver.find_elements_by_xpath('//*[@id=\"contentarea\"]/div[4]/table/tbody')[0].text\n",
    "    text_length = text_length_temp.split('\\n')\n",
    "    event_company_raw_data_list = list()\n",
    "        \n",
    "    for i in range(1, len(text_length)//2):\n",
    "        company_name_temp = driver.find_elements_by_xpath('//*[@id=\"contentarea\"]/div[4]/table/tbody/tr[{}'.format(i)+']/td[1]')[0].text\n",
    "        company_name = re.sub(r\"[\\s|*]\",\"\", company_name_temp)\n",
    "        event_company_raw_data = company_name\n",
    "        event_category_company_list += [[category_name, event_company_raw_data]]\n",
    "\n",
    "    driver.find_element_by_xpath('//*[@id=\"contentarea\"]/div[4]/div/div/a/img').click()"
   ]
  },
  {
   "cell_type": "code",
   "execution_count": null,
   "id": "4f6f1375",
   "metadata": {},
   "outputs": [],
   "source": [
    "#카테고리-기업명 데이터프레임\n",
    "\n",
    "category_company_df = pd.DataFrame(event_category_company_list)\n",
    "category_company_df.columns = ['카테고리', '기업명']"
   ]
  },
  {
   "cell_type": "code",
   "execution_count": null,
   "id": "83f75749",
   "metadata": {},
   "outputs": [],
   "source": [
    "#파일 저장\n",
    "category_company_df.to_csv('c:/pywork/category_company.csv', encoding = 'euc-kr')"
   ]
  },
  {
   "cell_type": "markdown",
   "id": "e1512b9f",
   "metadata": {},
   "source": [
    "## 2) 기업명-기업코드 가져오기"
   ]
  },
  {
   "cell_type": "markdown",
   "id": "0f3ef1ca",
   "metadata": {},
   "source": [
    "- 한국거래소 제공 기업코드 활용하기\n",
    "- http://data.krx.co.kr/contents/MDC/MDI/mdiLoader/index.cmd?menuId=MDC0201020201\n",
    "- 전체항목의 csv 파일 다운로드"
   ]
  },
  {
   "cell_type": "code",
   "execution_count": null,
   "id": "423cb073",
   "metadata": {},
   "outputs": [],
   "source": [
    "# csv 불러오기\n",
    "company_number_raw_data = pd.read_csv('c:/pywork/data_5905_20210724.csv', encoding = 'euc-kr')"
   ]
  },
  {
   "cell_type": "code",
   "execution_count": null,
   "id": "c2d71c2a",
   "metadata": {},
   "outputs": [],
   "source": [
    "#기업코드 가공하기\n",
    "\n",
    "company_number_temp_list = list(company_number_raw_data['단축코드'])\n",
    "\n",
    "\n",
    "#단축코드를 기업코드 6자리로 변경\n",
    "company_number_list = list()\n",
    "\n",
    "for i in range(0, len(company_number_temp_list)):\n",
    "    if len(company_number_temp_list[i]) == 6 :\n",
    "        company_number_list += [company_number_temp_list[i]]\n",
    "    elif len(company_number_temp_list[i]) == 5 :\n",
    "        company_number_list += ['0'+company_number_temp_list[i]]\n",
    "    elif len(company_number_temp_list[i]) == 4 :\n",
    "        company_number_list += ['00'+company_number_temp_list[i]]\n",
    "    elif len(company_number_temp_list[i]) == 3 :\n",
    "        company_number_list += ['000'+company_number_temp_list[i]]\n",
    "    elif len(company_number_temp_list[i]) == 2 :\n",
    "        company_number_list += ['0000'+company_number_temp_list[i]]\n",
    "    else:\n",
    "        pass"
   ]
  },
  {
   "cell_type": "code",
   "execution_count": null,
   "id": "f1a444ad",
   "metadata": {},
   "outputs": [],
   "source": [
    "#기업명 가공하기\n",
    "\n",
    "company_name_temp_list = list(company_number_raw_data['한글 종목약명'])\n",
    "\n",
    "\n",
    "#글자 사이 공백 제거\n",
    "company_name_list = list()\n",
    "\n",
    "for i in range(0, len(company_name_temp_list)):\n",
    "    company_name_list += [re.sub(r\"[\\s]\",\"\", company_name_temp_list[i])]"
   ]
  },
  {
   "cell_type": "code",
   "execution_count": null,
   "id": "57ab7fd2",
   "metadata": {},
   "outputs": [],
   "source": [
    "#기업코드 컬럼 추가\n",
    "company_number_raw_data['기업코드'] = company_number_list\n",
    "company_number_raw_data['기업명'] = company_name_list"
   ]
  },
  {
   "cell_type": "code",
   "execution_count": null,
   "id": "a7b9d610",
   "metadata": {},
   "outputs": [],
   "source": [
    "#필요한 컬럼만 가져오기\n",
    "company_number_df = company_number_raw_data[['기업명', '기업코드']]"
   ]
  },
  {
   "cell_type": "code",
   "execution_count": null,
   "id": "dfe35221",
   "metadata": {},
   "outputs": [],
   "source": [
    "company_number_df.to_csv('c:/pywork/company_number.csv', encoding = 'euc-kr')"
   ]
  },
  {
   "cell_type": "markdown",
   "id": "f7f47d63",
   "metadata": {},
   "source": [
    "## 3) 카테고리-기업명-기업코드 합치기"
   ]
  },
  {
   "cell_type": "code",
   "execution_count": null,
   "id": "089cc821",
   "metadata": {},
   "outputs": [],
   "source": [
    "#카테고리, 기업명 합치기\n",
    "company_data_df = pd.merge(category_company_df, company_number_df, how = 'left')\n",
    "company_data_df.to_csv('c:/pywork/company_data.csv', encoding = 'euc-kr')"
   ]
  },
  {
   "cell_type": "markdown",
   "id": "e2e4fc9d",
   "metadata": {},
   "source": [
    "# 2. 각 기업별 재무정보 가져오기"
   ]
  },
  {
   "cell_type": "markdown",
   "id": "cd7d68ac",
   "metadata": {},
   "source": [
    "## 1) 네이버 금융에서 재무제표 가져오기"
   ]
  },
  {
   "cell_type": "code",
   "execution_count": null,
   "id": "ba673832",
   "metadata": {},
   "outputs": [],
   "source": [
    "#가공된 한국거래소 제공 csv 파일 불러오기\n",
    "temp = pd.read_csv('c:/pywork/company_number.csv', encoding = 'euc-kr')\n",
    "company_num_temp = temp['기업코드'].to_list()"
   ]
  },
  {
   "cell_type": "code",
   "execution_count": null,
   "id": "7c50c632",
   "metadata": {},
   "outputs": [],
   "source": [
    "#해당 홈페이지 내 기업실적분석 데이터 가져오기\n",
    "#최근 연간 실적(2020년 12월 데이터)의 순이익률, ROE, 부채비율, PER 가져오기\n",
    "# 주의) 메모리에 무리가 가지 않도록 나눠서 파일 가져오기\n",
    "company_num_1 = company_num_temp[:500]\n",
    "finacne_data_df_1 = pd.DataFrame()\n",
    "\n",
    "for code in company_num_1:\n",
    "    print(code)\n",
    "    financial_statement_temp = pd.read_html('https://finance.naver.com/item/main.nhn?code='+code)\n",
    "    try :\n",
    "        temp_data = financial_statement_temp[3].T.iloc[3,:].reset_index(drop = True)\n",
    "        finacne_data_df_1[code] = temp_data[[4,5,6,10]]\n",
    "    except :\n",
    "        pass\n",
    "    print('완료')"
   ]
  },
  {
   "cell_type": "code",
   "execution_count": null,
   "id": "aa4b75d5",
   "metadata": {},
   "outputs": [],
   "source": [
    "#재무제표 가공하기\n",
    "financial_statement_temp = finacne_data_df_1.T\n",
    "financial_statement = financial_statement_temp[financial_statement_temp[4].notnull()]\n",
    "financial_statement.reset_index(inplace = True)\n",
    "financial_statement.columns = ['기업코드', '순이익률', 'ROE', '부채비율', 'PER']\n",
    "\n",
    "#재무제표 저장하기\n",
    "financial_statement.to_csv('c:/pywork/financial_statement_1.csv', encoding = 'euc-kr')"
   ]
  },
  {
   "cell_type": "code",
   "execution_count": null,
   "id": "ce5474b0",
   "metadata": {},
   "outputs": [],
   "source": [
    "#파일 가져오기2\n",
    "company_num_2 = company_num_temp[500:1000]\n",
    "finacne_data_df_2 = pd.DataFrame()\n",
    "\n",
    "for code in company_num_2:\n",
    "    print(code)\n",
    "    financial_statement_temp = pd.read_html('https://finance.naver.com/item/main.nhn?code='+code)\n",
    "    try :\n",
    "        temp_data = financial_statement_temp[3].T.iloc[3,:].reset_index(drop = True)\n",
    "        finacne_data_df_2[code] = temp_data[[4,5,6,10]]\n",
    "    except :\n",
    "        pass\n",
    "    print('완료')\n",
    "    \n",
    "financial_statement_temp = finacne_data_df_2.T\n",
    "financial_statement = financial_statement_temp[financial_statement_temp[4].notnull()]\n",
    "financial_statement.reset_index(inplace = True)\n",
    "financial_statement.columns = ['기업코드', '순이익률', 'ROE', '부채비율', 'PER']\n",
    "financial_statement.to_csv('c:/pywork/financial_statement_2.csv', encoding = 'euc-kr')"
   ]
  },
  {
   "cell_type": "code",
   "execution_count": null,
   "id": "cee8eb47",
   "metadata": {},
   "outputs": [],
   "source": [
    "#파일 가져오기3\n",
    "company_num_3 = company_num_temp[1000:1500]\n",
    "finacne_data_df_3 = pd.DataFrame()\n",
    "\n",
    "for code in company_num_3:\n",
    "    print(code)\n",
    "    financial_statement_temp = pd.read_html('https://finance.naver.com/item/main.nhn?code='+code)\n",
    "    try :\n",
    "        temp_data = financial_statement_temp[3].T.iloc[3,:].reset_index(drop = True)\n",
    "        finacne_data_df_3[code] = temp_data[[4,5,6,10]]\n",
    "    except :\n",
    "        pass\n",
    "    print('완료')\n",
    "    \n",
    "financial_statement_temp = finacne_data_df_3.T\n",
    "financial_statement = financial_statement_temp[financial_statement_temp[4].notnull()]\n",
    "financial_statement.reset_index(inplace = True)\n",
    "financial_statement.columns = ['기업코드', '순이익률', 'ROE', '부채비율', 'PER']\n",
    "financial_statement.to_csv('c:/pywork/financial_statement_3.csv', encoding = 'euc-kr')"
   ]
  },
  {
   "cell_type": "code",
   "execution_count": null,
   "id": "a5acea7d",
   "metadata": {},
   "outputs": [],
   "source": [
    "#파일 가져오기4\n",
    "company_num_4 = company_num_temp[1500:2000]\n",
    "finacne_data_df_4 = pd.DataFrame()\n",
    "\n",
    "for code in company_num_4:\n",
    "    print(code)\n",
    "    financial_statement_temp = pd.read_html('https://finance.naver.com/item/main.nhn?code='+code)\n",
    "    try :\n",
    "        temp_data = financial_statement_temp[3].T.iloc[3,:].reset_index(drop = True)\n",
    "        finacne_data_df_4[code] = temp_data[[4,5,6,10]]\n",
    "    except :\n",
    "        pass\n",
    "    print('완료')\n",
    "    \n",
    "financial_statement_temp = finacne_data_df_4.T\n",
    "financial_statement = financial_statement_temp[financial_statement_temp[4].notnull()]\n",
    "financial_statement.reset_index(inplace = True)\n",
    "financial_statement.columns = ['기업코드', '순이익률', 'ROE', '부채비율', 'PER']\n",
    "financial_statement.to_csv('c:/pywork/financial_statement_4.csv', encoding = 'euc-kr')"
   ]
  },
  {
   "cell_type": "code",
   "execution_count": null,
   "id": "eff3d1d4",
   "metadata": {},
   "outputs": [],
   "source": [
    "#파일 가져오기5\n",
    "company_num_5 = company_num_temp[2000:]\n",
    "finacne_data_df_5 = pd.DataFrame()\n",
    "\n",
    "for code in company_num_5:\n",
    "    print(code)\n",
    "    financial_statement_temp = pd.read_html('https://finance.naver.com/item/main.nhn?code='+code)\n",
    "    try :\n",
    "        temp_data = financial_statement_temp[3].T.iloc[3,:].reset_index(drop = True)\n",
    "        finacne_data_df_5[code] = temp_data[[4,5,6,10]]\n",
    "    except :\n",
    "        pass\n",
    "    print('완료')\n",
    "    \n",
    "financial_statement_temp = finacne_data_df_5.T\n",
    "financial_statement = financial_statement_temp[financial_statement_temp[4].notnull()]\n",
    "financial_statement.reset_index(inplace = True)\n",
    "financial_statement.columns = ['기업코드', '순이익률', 'ROE', '부채비율', 'PER']\n",
    "financial_statement.to_csv('c:/pywork/financial_statement_5.csv', encoding = 'euc-kr')"
   ]
  },
  {
   "cell_type": "markdown",
   "id": "fdb65194",
   "metadata": {},
   "source": [
    "## 2) 재무제표 가공하기"
   ]
  },
  {
   "cell_type": "code",
   "execution_count": null,
   "id": "91fab5b6",
   "metadata": {},
   "outputs": [],
   "source": [
    "#데이터 불러오기\n",
    "a = pd.read_csv('c:/pywork/financial_statement_1.csv', encoding = 'euc-kr')\n",
    "b = pd.read_csv('c:/pywork/financial_statement_2.csv', encoding = 'euc-kr')\n",
    "c = pd.read_csv('c:/pywork/financial_statement_3.csv', encoding = 'euc-kr')\n",
    "d = pd.read_csv('c:/pywork/financial_statement_4.csv', encoding = 'euc-kr')\n",
    "e = pd.read_csv('c:/pywork/financial_statement_5.csv', encoding = 'euc-kr')"
   ]
  },
  {
   "cell_type": "code",
   "execution_count": null,
   "id": "1fbc2fb6",
   "metadata": {},
   "outputs": [],
   "source": [
    "#데이터 합치기\n",
    "financial_statement_df = pd.concat([a, b, c, d, e])"
   ]
  },
  {
   "cell_type": "code",
   "execution_count": null,
   "id": "89dfd242",
   "metadata": {},
   "outputs": [],
   "source": [
    "#불필요한 데이터 제거하기\n",
    "#재무제표 내에 빈칸이 있는 기업들 제거\n",
    "columns = financial_statement_df.columns\n",
    "\n",
    "for col in columns:\n",
    "    financial_statement_df = financial_statement_df[financial_statement_df[col].notnull()]\n",
    "    \n",
    "#칼럼명 통일을 위해 칼럼명 변경\n",
    "financial_statement_df = financial_statement_df[['기업코드', '순이익률', 'ROE', '부채비율', 'PER']]\n",
    "\n",
    "#가공된 데이터 저장\n",
    "financial_statement_df.to_csv('c:/pywork/financial_statement_data.csv', encoding = 'euc-kr')"
   ]
  },
  {
   "cell_type": "markdown",
   "id": "cb08ad74",
   "metadata": {},
   "source": [
    "# 3. 데이터 활용하기"
   ]
  },
  {
   "cell_type": "markdown",
   "id": "8024f92b",
   "metadata": {},
   "source": [
    "## 1) 기업 카테고리 데이터와 기업 재무제표 데이터 합치기"
   ]
  },
  {
   "cell_type": "code",
   "execution_count": null,
   "id": "531955f3",
   "metadata": {},
   "outputs": [],
   "source": [
    "#데이터 불러오기\n",
    "company_data_df = pd.read_csv('c:/pywork/company_data.csv', encoding = 'euc-kr')\n",
    "finance_data_df = pd.read_csv('c:/pywork/financial_statement_data.csv', encoding = 'euc-kr')"
   ]
  },
  {
   "cell_type": "code",
   "execution_count": null,
   "id": "1d6fb4f5",
   "metadata": {},
   "outputs": [],
   "source": [
    "#데이터 가공하기\n",
    "company_data_df = company_data_df[['카테고리', '기업명', '기업코드']]\n",
    "\n",
    "#데이터 합치기\n",
    "event_df = pd.merge(company_data_df, finance_data_df, how = 'inner')\n",
    "\n",
    "#데이터 컬럼명 변경하기\n",
    "event_df = event_df[['카테고리', '기업명', '기업코드', '순이익률', 'ROE', '부채비율', 'PER']]\n",
    "\n",
    "#공백 데이터 제거하기\n",
    "event_df = event_df[event_df.PER != '-']\n",
    "\n",
    "#데이터 타입 통일하기\n",
    "event_df = event_df.astype({'PER': 'float'})\n",
    "\n",
    "#변경된 데이터 저장하기\n",
    "event_df.to_csv('c:/pywork/event_df.csv', encoding = 'euc-kr')"
   ]
  },
  {
   "cell_type": "markdown",
   "id": "4251ad08",
   "metadata": {},
   "source": [
    "## 2) 데이터 순위 매기기"
   ]
  },
  {
   "cell_type": "code",
   "execution_count": null,
   "id": "0edc7f12",
   "metadata": {},
   "outputs": [],
   "source": [
    "#데이터 불러오기\n",
    "event_df = pd.read_csv('c:/pywork/event_df.csv', encoding = 'euc-kr')"
   ]
  },
  {
   "cell_type": "code",
   "execution_count": null,
   "id": "c38bf00c",
   "metadata": {},
   "outputs": [],
   "source": [
    "#필요한 칼럼별 순위 매기기\n",
    "event_df['순이익률 순위'] = event_df['순이익률'].rank(ascending = False)\n",
    "event_df['ROE 순위'] = event_df['ROE'].rank(ascending = False)\n",
    "event_df['부채비율 순위'] = event_df['부채비율'].rank(ascending = True)\n",
    "event_df['PER 순위'] = event_df['PER'].rank(ascending = True)"
   ]
  },
  {
   "cell_type": "code",
   "execution_count": null,
   "id": "43f98116",
   "metadata": {},
   "outputs": [],
   "source": [
    "#종합순위 매기기\n",
    "event_df['순위합계'] = event_df['순이익률 순위'] + event_df['ROE 순위'] + event_df['부채비율 순위'] + event_df['PER 순위']\n",
    "event_df['종합순위'] = event_df['순위합계'].rank()\n",
    "event_rank_df = event_df.sort_values(ascending = True, by = '순위합계')"
   ]
  },
  {
   "cell_type": "code",
   "execution_count": null,
   "id": "abe826f7",
   "metadata": {},
   "outputs": [],
   "source": [
    "#순위 데이터 저장하기\n",
    "event_rank_df.to_csv('c:/pywork/event_rank_df.csv', encoding = 'euc-kr')"
   ]
  }
 ],
 "metadata": {
  "kernelspec": {
   "display_name": "Python 3",
   "language": "python",
   "name": "python3"
  },
  "language_info": {
   "codemirror_mode": {
    "name": "ipython",
    "version": 3
   },
   "file_extension": ".py",
   "mimetype": "text/x-python",
   "name": "python",
   "nbconvert_exporter": "python",
   "pygments_lexer": "ipython3",
   "version": "3.8.5"
  }
 },
 "nbformat": 4,
 "nbformat_minor": 5
}
