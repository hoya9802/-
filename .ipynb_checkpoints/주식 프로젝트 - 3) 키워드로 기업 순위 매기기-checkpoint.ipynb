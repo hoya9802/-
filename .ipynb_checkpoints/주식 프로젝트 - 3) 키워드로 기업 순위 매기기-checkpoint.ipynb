{
 "cells": [
  {
   "cell_type": "code",
   "execution_count": 1,
   "id": "6f0e94c4",
   "metadata": {},
   "outputs": [],
   "source": [
    "import pandas as pd\n",
    "import numpy as np"
   ]
  },
  {
   "cell_type": "markdown",
   "id": "474a47ec",
   "metadata": {},
   "source": [
    "# 1. 종합데이터로 기업 순위 매기기"
   ]
  },
  {
   "cell_type": "markdown",
   "id": "9a3449de",
   "metadata": {},
   "source": [
    "## 1) 키워드 파일 가공하기"
   ]
  },
  {
   "cell_type": "code",
   "execution_count": null,
   "id": "78d134b3",
   "metadata": {},
   "outputs": [],
   "source": [
    "#키워드 빈도수 파일 불러오기\n",
    "keyword_category_df = pd.read_csv('c:/pywork/keyword_category.csv', encoding = 'euc-kr')"
   ]
  },
  {
   "cell_type": "code",
   "execution_count": null,
   "id": "8177a800",
   "metadata": {},
   "outputs": [],
   "source": [
    "#빈도수 세기\n",
    "temp_df = keyword_category_df.groupby(['카테고리']).count()"
   ]
  },
  {
   "cell_type": "code",
   "execution_count": null,
   "id": "0e4ff4eb",
   "metadata": {},
   "outputs": [],
   "source": [
    "#키워드 빈도수 데이터프레임 순위화\n",
    "category_count_result_temp = temp_df.sort_values('counts', ascending = False)\n",
    "category_count_result = category_count_result_temp.reset_index()\n",
    "category_count_result_df = category_count_result['카테고리']"
   ]
  },
  {
   "cell_type": "markdown",
   "id": "8f61d494",
   "metadata": {},
   "source": [
    "## 2) 종합순위 데이터프레임 만들기"
   ]
  },
  {
   "cell_type": "code",
   "execution_count": null,
   "id": "224069b2",
   "metadata": {},
   "outputs": [],
   "source": [
    "#기업 순위 정보 파일 불러오기\n",
    "event_rank_df = pd.read_csv('c:/pywork/event_rank_df.csv', encoding = 'euc-kr')"
   ]
  },
  {
   "cell_type": "code",
   "execution_count": null,
   "id": "e591591c",
   "metadata": {},
   "outputs": [],
   "source": [
    "#원하는 상위 키워드 개수 고르기\n",
    "category_count_result_10 = category_count_result_df.head(10)"
   ]
  },
  {
   "cell_type": "code",
   "execution_count": null,
   "id": "666d6796",
   "metadata": {},
   "outputs": [],
   "source": [
    "#데이터프레임 합치고 정리하기\n",
    "total_rank_temp = pd.merge(event_rank_df, category_count_result_10, how='inner')\n",
    "total_rank_temp = total_rank_temp[['카테고리', '기업명', '기업코드', '순이익률', 'ROE', '부채비율', 'PER', '종합순위']]\n",
    "total_rank = total_rank_temp.sort_values('종합순위', ascending = True)"
   ]
  },
  {
   "cell_type": "code",
   "execution_count": null,
   "id": "19f1f537",
   "metadata": {},
   "outputs": [],
   "source": [
    "#원하는 개수의 기업랭킹 가져오기\n",
    "total_rank_result = total_rank.head(30)\n",
    "total_rank_result"
   ]
  },
  {
   "cell_type": "code",
   "execution_count": null,
   "id": "6b64c2b6",
   "metadata": {},
   "outputs": [],
   "source": [
    "#파일 저장하기\n",
    "total_rank_result.to_csv('c:/pywork/total_rank_result.csv', encoding = 'euc-kr')"
   ]
  },
  {
   "cell_type": "markdown",
   "id": "e2948a57",
   "metadata": {},
   "source": [
    "# 2. 시세 그래프 그리기"
   ]
  },
  {
   "cell_type": "markdown",
   "id": "b7d886f9",
   "metadata": {},
   "source": [
    "## 1) 시세 데이터 가져오기"
   ]
  },
  {
   "cell_type": "code",
   "execution_count": null,
   "id": "f965d739",
   "metadata": {},
   "outputs": [],
   "source": [
    "import requests\n",
    "\n",
    "import matplotlib.pyplot as plt\n",
    "import matplotlib.ticker as ticker\n",
    "\n",
    "from matplotlib import font_manager, rc\n",
    "from matplotlib.gridspec import GridSpec\n",
    "from urllib import parse\n",
    "from ast import literal_eval"
   ]
  },
  {
   "cell_type": "code",
   "execution_count": null,
   "id": "faf90d89",
   "metadata": {},
   "outputs": [],
   "source": [
    "#데이터 불러오기\n",
    "rank = pd.read_csv('c:/pywork/total_rank_result.csv', encoding = 'euc-kr')\n",
    "\n",
    "#상위 5개 데이터로 가공하기\n",
    "rank_code = list(rank['기업코드'].head(5))"
   ]
  },
  {
   "cell_type": "code",
   "execution_count": null,
   "id": "6d48f71a",
   "metadata": {},
   "outputs": [],
   "source": [
    "#원하는 기업의 기업코드 가져오기\n",
    "#상위 1위 기업 선택\n",
    "company_num = rank_code[0]"
   ]
  },
  {
   "cell_type": "code",
   "execution_count": null,
   "id": "80a9ffd7",
   "metadata": {},
   "outputs": [],
   "source": [
    "def get_price(code, start_time, end_time, time_from='week') :\n",
    "    get_price_data = { 'symbol':code, 'requestType':1, 'startTime':start_time,\n",
    "                 'endTime':end_time, 'timeframe':time_from\n",
    "    }\n",
    "    get_price_data = parse.urlencode(get_price_data)\n",
    "    url=\"https://api.finance.naver.com/siseJson.naver?%s\"%(get_price_data)\n",
    "    response = requests.get(url)\n",
    "    return literal_eval(response.text.strip())"
   ]
  },
  {
   "cell_type": "code",
   "execution_count": null,
   "id": "de650f6f",
   "metadata": {},
   "outputs": [],
   "source": [
    "#일간시세표 만들기\n",
    "#'기업코드', '시작날짜', '종료날짜', 'day' 입력\n",
    "price = get_price(company_num, '20190716', '20210726', 'day')\n",
    "price_day_df = pd.DataFrame(data = price[1:], columns = price[0])"
   ]
  },
  {
   "cell_type": "code",
   "execution_count": null,
   "id": "420f2df8",
   "metadata": {},
   "outputs": [],
   "source": [
    "#주간시세표 만들기\n",
    "#'기업코드', '시작날짜', '종료날짜', 'week' 입력\n",
    "price = get_price(company_num, '20190716', '20210724', 'week')\n",
    "price_week_df = pd.DataFrame(data = price[1:], columns = price[0])"
   ]
  },
  {
   "cell_type": "code",
   "execution_count": null,
   "id": "95ae067d",
   "metadata": {},
   "outputs": [],
   "source": [
    "#월간시세표 만들기\n",
    "#'기업코드', '시작날짜', '종료날짜', 'month' 입력\n",
    "price = get_price(company_num, '20190716', '20210724', 'month')\n",
    "price_month_df = pd.DataFrame(data = price[1:], columns = price[0])"
   ]
  },
  {
   "cell_type": "markdown",
   "id": "d0b2d372",
   "metadata": {},
   "source": [
    "## 2) 그래프 그리기"
   ]
  },
  {
   "cell_type": "code",
   "execution_count": null,
   "id": "a19ea09d",
   "metadata": {},
   "outputs": [],
   "source": [
    "price_week_df2 = price_week_df.reset_index()"
   ]
  },
  {
   "cell_type": "code",
   "execution_count": null,
   "id": "142ac5b2",
   "metadata": {},
   "outputs": [],
   "source": [
    "fig, [ax1, ax2] = plt.subplots(2, 2, figsize=(15, 15))\n",
    "\n",
    "gs = GridSpec(nrows=2, ncols=2)\n",
    "\n",
    "ax1 = fig.add_subplot(gs[0,0])\n",
    "ax1.plot(price_day_df['날짜'], price_day_df['종가'], label=\"종가\",color='y')\n",
    "ax1.set_xlabel(\"날짜(일)\", size=20)\n",
    "ax1.set_ylabel(\"주가(원)\", size=20)\n",
    "ax1.xaxis.set_major_locator(ticker.MaxNLocator(10))\n",
    "plt.xticks(rotation = 15)\n",
    "\n",
    "ax1 = fig.add_subplot(gs[0,1])\n",
    "ax1.plot(price_week_df['날짜'], price_week_df['종가'], label=\"종가\", color='b')\n",
    "ax1.set_xlabel(\"날짜(주)\", size=20)\n",
    "ax1.set_ylabel(\"주가(원)\", size=20)\n",
    "ax1.xaxis.set_major_locator(ticker.MaxNLocator(10))\n",
    "plt.xticks(rotation = 15)\n",
    "\n",
    "ax2 = fig.add_subplot(gs[1,0])\n",
    "ax2.plot(price_month_df['날짜'], price_month_df['종가'], label=\"종가\", color='g')\n",
    "ax2.set_xlabel(\"날짜(월)\", size=20)\n",
    "ax2.set_ylabel(\"주가(원)\", size=20)\n",
    "ax2.xaxis.set_major_locator(ticker.MaxNLocator(10))\n",
    "plt.xticks(rotation = 15)\n",
    "\n",
    "#추세선 그리기\n",
    "ax3 = fig.add_subplot(gs[1,1])\n",
    "ax3.plot(price_week_df2['index'], price_week_df2['종가'], label=\"종가\", color='purple')\n",
    "ax3.set_ylabel(\"주가(원)\", size=20)\n",
    "ax3.xaxis.set_major_locator(ticker.MaxNLocator(10))\n",
    "z = np.polyfit((price_week_df2['index']), (price_week_df2['종가']), 1)\n",
    "p = np.poly1d(z)\n",
    "plt.plot(price_week_df2['index'],p(price_week_df2['index']),\"r--\")\n",
    "\n",
    "plt.xticks(rotation = 15)\n",
    "\n",
    "font_path = \"C:/Windows/Fonts/H2GTRE.TTF\"\n",
    "font = font_manager.FontProperties(fname=font_path).get_name()\n",
    "rc('font', family=font)\n",
    "\n",
    "plt.show()"
   ]
  }
 ],
 "metadata": {
  "kernelspec": {
   "display_name": "Python 3",
   "language": "python",
   "name": "python3"
  },
  "language_info": {
   "codemirror_mode": {
    "name": "ipython",
    "version": 3
   },
   "file_extension": ".py",
   "mimetype": "text/x-python",
   "name": "python",
   "nbconvert_exporter": "python",
   "pygments_lexer": "ipython3",
   "version": "3.8.8"
  }
 },
 "nbformat": 4,
 "nbformat_minor": 5
}
